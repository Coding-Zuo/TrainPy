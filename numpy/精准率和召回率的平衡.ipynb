{
 "cells": [
  {
   "cell_type": "code",
   "execution_count": 1,
   "metadata": {},
   "outputs": [],
   "source": [
    "import numpy as np\n",
    "import matplotlib.pyplot as plt\n",
    "from sklearn import datasets\n",
    "digits=datasets.load_digits()\n",
    "X=digits.data\n",
    "y=digits.target.copy()\n",
    "y[digits.target==9]=1\n",
    "y[digits.target!=9]=0\n"
   ]
  },
  {
   "cell_type": "code",
   "execution_count": 2,
   "metadata": {},
   "outputs": [],
   "source": [
    "from sklearn.model_selection import train_test_split"
   ]
  },
  {
   "cell_type": "code",
   "execution_count": 3,
   "metadata": {},
   "outputs": [],
   "source": [
    "X_train,X_test,y_train,y_test=train_test_split(X,y,random_state=666)"
   ]
  },
  {
   "cell_type": "code",
   "execution_count": 4,
   "metadata": {},
   "outputs": [
    {
     "name": "stderr",
     "output_type": "stream",
     "text": [
      "/opt/anaconda3/lib/python3.7/site-packages/sklearn/linear_model/_logistic.py:940: ConvergenceWarning: lbfgs failed to converge (status=1):\n",
      "STOP: TOTAL NO. of ITERATIONS REACHED LIMIT.\n",
      "\n",
      "Increase the number of iterations (max_iter) or scale the data as shown in:\n",
      "    https://scikit-learn.org/stable/modules/preprocessing.html\n",
      "Please also refer to the documentation for alternative solver options:\n",
      "    https://scikit-learn.org/stable/modules/linear_model.html#logistic-regression\n",
      "  extra_warning_msg=_LOGISTIC_SOLVER_CONVERGENCE_MSG)\n"
     ]
    }
   ],
   "source": [
    "from sklearn.linear_model import LogisticRegression\n",
    "log_reg=LogisticRegression()\n",
    "log_reg.fit(X_train,y_train)\n",
    "y_predict=log_reg.predict(X_test)"
   ]
  },
  {
   "cell_type": "code",
   "execution_count": 5,
   "metadata": {},
   "outputs": [
    {
     "data": {
      "text/plain": [
       "0.8674698795180723"
      ]
     },
     "execution_count": 5,
     "metadata": {},
     "output_type": "execute_result"
    }
   ],
   "source": [
    "from sklearn.metrics import f1_score\n",
    "f1_score(y_test,y_predict)"
   ]
  },
  {
   "cell_type": "code",
   "execution_count": 6,
   "metadata": {},
   "outputs": [
    {
     "data": {
      "text/plain": [
       "array([[403,   2],\n",
       "       [  9,  36]])"
      ]
     },
     "execution_count": 6,
     "metadata": {},
     "output_type": "execute_result"
    }
   ],
   "source": [
    "from sklearn.metrics import confusion_matrix\n",
    "confusion_matrix(y_test,y_predict)"
   ]
  },
  {
   "cell_type": "code",
   "execution_count": 7,
   "metadata": {},
   "outputs": [
    {
     "data": {
      "text/plain": [
       "0.9473684210526315"
      ]
     },
     "execution_count": 7,
     "metadata": {},
     "output_type": "execute_result"
    }
   ],
   "source": [
    "from sklearn.metrics import precision_score\n",
    "precision_score(y_test,y_predict)"
   ]
  },
  {
   "cell_type": "code",
   "execution_count": 8,
   "metadata": {},
   "outputs": [
    {
     "data": {
      "text/plain": [
       "0.8"
      ]
     },
     "execution_count": 8,
     "metadata": {},
     "output_type": "execute_result"
    }
   ],
   "source": [
    "from sklearn.metrics import recall_score\n",
    "recall_score(y_test,y_predict)"
   ]
  },
  {
   "cell_type": "code",
   "execution_count": 9,
   "metadata": {},
   "outputs": [
    {
     "data": {
      "text/plain": [
       "array([-21.45985612, -32.95369325, -16.40089372, -79.9179075 ,\n",
       "       -48.17449518, -24.21735792, -44.76578369, -24.22771585,\n",
       "        -1.22644781, -19.07604317, -65.863024  , -50.97148327,\n",
       "       -30.88918504, -46.11559963, -37.39814384, -29.70283342,\n",
       "       -36.89572789, -82.86794195, -37.770388  ,  -9.86191397,\n",
       "        -9.26348365, -85.2776449 , -16.74413548, -45.34499943,\n",
       "        -4.96823072, -48.46743432, -11.66947651, -37.20331773,\n",
       "       -25.15893173, -13.49371587, -16.58856566, -28.869577  ,\n",
       "       -34.47732498, -28.54994339,  -8.07904044,  -4.60793401,\n",
       "       -21.65097259, -21.82095984, -30.93464591, -23.48254674,\n",
       "       -26.95989197, -62.22879763, -37.70222853, -66.33146848,\n",
       "       -20.08024127, -16.65249742, -18.09249536, -21.62839338,\n",
       "       -29.05799357, -19.74592843,   2.56715933,   7.73311621,\n",
       "       -34.78482342, -42.74279261, -25.87953121, -34.88100695,\n",
       "        -7.61178395, -49.71066592, -51.58449001,  19.7011737 ,\n",
       "       -10.13093825, -32.09150486, -11.55168132,  -1.62549783,\n",
       "       -48.86558529, -43.78841946, -24.96955673, -19.67029099,\n",
       "       -36.83698323,  -3.54956437,  -4.6371894 , -19.18341142,\n",
       "       -20.43040998, -40.93211617, -11.92848611, -32.77490735,\n",
       "       -35.7804232 , -28.53361144, -55.55982954, -18.86578974,\n",
       "         4.62652577, -16.51486976, -76.78118863, -58.18575022,\n",
       "       -30.19046896, -29.46820157, -33.38226345,  -8.36481735,\n",
       "       -48.01406903, -65.57306361, -16.91006451, -22.13239464,\n",
       "       -11.22290785, -18.71363227, -69.18796329, -46.45052479,\n",
       "       -39.51267761, -36.05636189, -17.79272868, -62.94305853,\n",
       "       -17.01814614, -55.21109756, -28.82250118, -68.68783709,\n",
       "       -68.91656932,  -6.64389378, -25.48048823, -38.45791516,\n",
       "       -27.48974107, -15.5454232 , -27.49376741, -20.32720709,\n",
       "        12.0205481 , -23.20809122, -36.01374344, -29.91082138,\n",
       "       -69.06621786, -27.15088008, -54.30087291, -24.65155451,\n",
       "       -11.78547722, -47.49110164,  -2.84855229, -59.68604469,\n",
       "       -31.06026024,  -9.01326236, -71.03624906, -56.9831143 ,\n",
       "       -20.16785946, -21.55152825, -68.40043426, -18.94259983,\n",
       "       -38.5638621 , -57.31503661,  -0.89409151, -22.56477427,\n",
       "       -22.76679194, -29.07448467, -32.55809952, -20.5141846 ,\n",
       "       -11.33579263,   4.59989795,   6.21741488,   1.55177898,\n",
       "        -7.66274773, -39.33340041,  12.24956982, -74.69892544,\n",
       "       -75.29256279, -50.06196713, -11.66793431, -47.68644321,\n",
       "       -75.41788509, -30.00467042, -64.1602137 ,  -7.38287929,\n",
       "        -6.68266232, -18.2484102 , -32.41503439, -17.95733808,\n",
       "       -43.26736336, -32.69808519, -34.45606859, -72.90877619,\n",
       "       -15.21335275,  11.53238   , -56.53077389,  -6.05018178,\n",
       "       -48.31896501, -16.45736809,  -2.10060153, -11.80335384,\n",
       "       -33.22598053, -51.67180899, -10.32201458, -17.24803819,\n",
       "        -5.2260519 , -25.32890245, -15.67522315,   3.55667276,\n",
       "       -44.93848819, -12.65914066, -25.42892192, -16.7235734 ,\n",
       "       -21.94851022, -82.62107254,  -5.77259225, -20.29547621,\n",
       "       -20.51454099, -26.91294542, -25.99466305, -40.57920453,\n",
       "       -37.9966034 , -26.90839152, -23.78633768, -20.1662196 ,\n",
       "        -9.67020993, -19.65749979, -42.58798172, -44.25263831,\n",
       "       -15.58841057, -64.11850404, -24.63500743, -56.43822615,\n",
       "       -13.2408759 , -29.63916673,   3.77237076, -44.33874693,\n",
       "        -7.92766926,   0.98913129,  -2.8309979 , -11.9258205 ,\n",
       "         7.49993187,  -7.24480362, -46.48316041, -48.72097323,\n",
       "        -4.66624875, -19.04656283, -24.19240032, -48.84735594,\n",
       "       -15.02759727, -25.10916834, -16.63520535, -18.61048069,\n",
       "       -15.75312298, -16.97695903, -38.6168588 , -31.05610658,\n",
       "        -9.40835477, -71.50456952, -22.86741432, -14.40699625,\n",
       "       -23.21191747, -34.39797054,  -0.82721348, -32.99921102,\n",
       "       -11.19542933, -18.70028565,  -8.16405287, -45.46072191,\n",
       "       -22.3270159 , -62.56793115, -46.75011335, -65.26947854,\n",
       "       -33.35036291, -23.38726337, -28.54236424, -64.86644709,\n",
       "         1.5329105 ,  -4.11167393, -25.81311571, -22.34063318,\n",
       "       -54.74421634, -16.32409788, -12.22069342, -35.31108087,\n",
       "        -5.70339781, -13.24534191, -72.48782711,  -6.14229833,\n",
       "        -1.10952764, -35.59646209, -24.19810802, -68.30357563,\n",
       "        14.69504829, -63.04279365,   9.85878683, -24.12482229,\n",
       "       -32.5103433 , -14.40072965, -85.76652883, -12.83490246,\n",
       "         8.96084534, -16.3805339 , -36.81386869, -16.54962979,\n",
       "       -19.42212784, -32.75791146,  -5.60550001,   7.74561427,\n",
       "         9.45776013,   5.92586426, -35.61501425, -13.02409723,\n",
       "       -54.41851908, -41.10595978,   5.56887167, -79.5774194 ,\n",
       "       -15.88540837, -19.36398719, -11.0283916 , -42.58174194,\n",
       "       -19.81657769, -15.7365816 , -18.06846428, -18.04629938,\n",
       "        -6.67022445, -20.76127236, -16.69655614, -70.59462652,\n",
       "        -9.14345042, -31.56026721, -19.70080704, -21.92710571,\n",
       "       -24.72899299, -16.33777063, -13.26346213, -22.9408641 ,\n",
       "        11.02276919, -15.52686567, -32.86646804, -13.75283812,\n",
       "       -50.47968337, -20.59689558, -56.24914875, -28.65879358,\n",
       "       -21.83358874, -30.52556822, -69.18555297, -59.44835905,\n",
       "        14.44515724,   8.54359522, -25.75018228,   2.77532921,\n",
       "         4.98250847, -19.82039228, -58.88148446,  -9.95357182,\n",
       "       -28.78977011, -27.24771495,   6.34904557, -80.5344196 ,\n",
       "       -34.48259635, -50.37328009, -35.9500127 , -48.83379345,\n",
       "       -17.78199018, -62.31134273,  -3.14785017, -25.28529749,\n",
       "       -64.1893051 ,  -9.68924209, -21.62855454,  19.97568937,\n",
       "       -18.78072551,  -4.45194509, -13.10376787, -21.69369608,\n",
       "       -43.05874973, -52.30454851, -28.54926392, -14.64764108,\n",
       "        -2.44929707,  -6.16279151,   3.72475244, -15.01359423,\n",
       "       -40.91757394, -26.75085279,  14.1249446 , -17.70964299,\n",
       "        15.22935357, -33.06416817,   5.31030873, -14.24964074,\n",
       "       -53.66625203, -49.92468386, -30.57083601, -38.07437631,\n",
       "       -23.30598208, -24.74280809, -13.48894937, -22.44221198,\n",
       "       -27.2353117 , -19.66994124, -28.14783874, -19.96179535,\n",
       "       -29.58335866, -11.28389341, -17.24112994, -24.02168692,\n",
       "       -24.2879283 ,  10.42037995, -17.24755973, -38.01288114,\n",
       "       -16.12118908, -37.7927064 , -16.45762006, -69.11681822,\n",
       "       -33.72034982, -43.71151156, -26.3565392 , -10.31069811,\n",
       "       -66.4170695 , -31.80712679, -45.58386919, -14.5163824 ,\n",
       "       -36.06806826, -14.95346982, -70.12204011, -11.47193488,\n",
       "       -41.10724064, -32.77225097, -19.66998725, -27.66164674,\n",
       "       -15.70152148, -31.57966116,  -8.55356884, -21.34623541,\n",
       "       -34.22469542, -11.5682882 , -36.41597432, -34.75781634,\n",
       "       -22.21091095,   4.75638474, -21.39506274,  -4.5306702 ,\n",
       "       -21.01266422, -32.2016462 , -41.19475853, -25.19052966,\n",
       "       -19.74388181, -48.04781225, -31.07181285, -45.56680551,\n",
       "       -71.5026519 ,  -6.27781401, -32.65074986,   2.37050953,\n",
       "        12.01789365,   7.00008298, -31.47716364, -63.94311658,\n",
       "       -23.78046082,  -5.70828904, -32.41112773, -24.81467886,\n",
       "       -67.73634663, -32.78270759, -33.58968136, -31.52521721,\n",
       "       -52.02169882, -22.45455196,  -7.67564104, -17.27602289,\n",
       "       -25.80018475, -32.47101885, -29.57822362, -66.60145547,\n",
       "       -45.73736709, -16.00973104])"
      ]
     },
     "execution_count": 9,
     "metadata": {},
     "output_type": "execute_result"
    }
   ],
   "source": [
    "log_reg.decision_function(X_test)"
   ]
  },
  {
   "cell_type": "code",
   "execution_count": 10,
   "metadata": {},
   "outputs": [
    {
     "data": {
      "text/plain": [
       "array([-21.45985612, -32.95369325, -16.40089372, -79.9179075 ,\n",
       "       -48.17449518, -24.21735792, -44.76578369, -24.22771585,\n",
       "        -1.22644781, -19.07604317])"
      ]
     },
     "execution_count": 10,
     "metadata": {},
     "output_type": "execute_result"
    }
   ],
   "source": [
    "log_reg.decision_function(X_test)[:10]"
   ]
  },
  {
   "cell_type": "code",
   "execution_count": 11,
   "metadata": {},
   "outputs": [
    {
     "data": {
      "text/plain": [
       "array([0, 0, 0, 0, 0, 0, 0, 0, 0, 0])"
      ]
     },
     "execution_count": 11,
     "metadata": {},
     "output_type": "execute_result"
    }
   ],
   "source": [
    "log_reg.predict(X_test)[:10]"
   ]
  },
  {
   "cell_type": "code",
   "execution_count": 12,
   "metadata": {},
   "outputs": [],
   "source": [
    "decision_score=log_reg.decision_function(X_test)"
   ]
  },
  {
   "cell_type": "code",
   "execution_count": 13,
   "metadata": {},
   "outputs": [
    {
     "data": {
      "text/plain": [
       "-85.76652882645814"
      ]
     },
     "execution_count": 13,
     "metadata": {},
     "output_type": "execute_result"
    }
   ],
   "source": [
    "np.min(decision_score)"
   ]
  },
  {
   "cell_type": "code",
   "execution_count": 14,
   "metadata": {},
   "outputs": [
    {
     "data": {
      "text/plain": [
       "19.97568937249484"
      ]
     },
     "execution_count": 14,
     "metadata": {},
     "output_type": "execute_result"
    }
   ],
   "source": [
    "np.max(decision_score)"
   ]
  },
  {
   "cell_type": "code",
   "execution_count": 18,
   "metadata": {},
   "outputs": [],
   "source": [
    "y_predict_2=np.array(decision_score>=5,dtype='int')"
   ]
  },
  {
   "cell_type": "code",
   "execution_count": 19,
   "metadata": {},
   "outputs": [
    {
     "data": {
      "text/plain": [
       "array([[404,   1],\n",
       "       [ 21,  24]])"
      ]
     },
     "execution_count": 19,
     "metadata": {},
     "output_type": "execute_result"
    }
   ],
   "source": [
    "confusion_matrix(y_test,y_predict_2)"
   ]
  },
  {
   "cell_type": "code",
   "execution_count": null,
   "metadata": {},
   "outputs": [],
   "source": []
  },
  {
   "cell_type": "code",
   "execution_count": null,
   "metadata": {},
   "outputs": [],
   "source": []
  },
  {
   "cell_type": "code",
   "execution_count": null,
   "metadata": {},
   "outputs": [],
   "source": []
  },
  {
   "cell_type": "code",
   "execution_count": null,
   "metadata": {},
   "outputs": [],
   "source": []
  },
  {
   "cell_type": "code",
   "execution_count": null,
   "metadata": {},
   "outputs": [],
   "source": []
  },
  {
   "cell_type": "code",
   "execution_count": null,
   "metadata": {},
   "outputs": [],
   "source": []
  },
  {
   "cell_type": "code",
   "execution_count": null,
   "metadata": {},
   "outputs": [],
   "source": []
  },
  {
   "cell_type": "code",
   "execution_count": null,
   "metadata": {},
   "outputs": [],
   "source": []
  },
  {
   "cell_type": "code",
   "execution_count": null,
   "metadata": {},
   "outputs": [],
   "source": []
  },
  {
   "cell_type": "code",
   "execution_count": null,
   "metadata": {},
   "outputs": [],
   "source": []
  },
  {
   "cell_type": "code",
   "execution_count": null,
   "metadata": {},
   "outputs": [],
   "source": []
  },
  {
   "cell_type": "code",
   "execution_count": null,
   "metadata": {},
   "outputs": [],
   "source": []
  }
 ],
 "metadata": {
  "kernelspec": {
   "display_name": "Python 3",
   "language": "python",
   "name": "python3"
  },
  "language_info": {
   "codemirror_mode": {
    "name": "ipython",
    "version": 3
   },
   "file_extension": ".py",
   "mimetype": "text/x-python",
   "name": "python",
   "nbconvert_exporter": "python",
   "pygments_lexer": "ipython3",
   "version": "3.7.6"
  }
 },
 "nbformat": 4,
 "nbformat_minor": 4
}
