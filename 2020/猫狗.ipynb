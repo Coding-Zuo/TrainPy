{
 "cells": [
  {
   "cell_type": "code",
   "execution_count": 1,
   "metadata": {},
   "outputs": [
    {
     "name": "stderr",
     "output_type": "stream",
     "text": [
      "Using TensorFlow backend.\n"
     ]
    },
    {
     "name": "stdout",
     "output_type": "stream",
     "text": [
      "Found 2000 images belonging to 2 classes.\n"
     ]
    }
   ],
   "source": [
    "from keras.preprocessing.image import ImageDataGenerator\n",
    "train_datagen=ImageDataGenerator(rescale=1./255)\n",
    "training_set=train_datagen.flow_from_directory('./cats_and_dogs_filtered/train',\n",
    "                                               target_size=(50,50),\n",
    "                                              batch_size=32,\n",
    "                                              class_mode='binary')"
   ]
  },
  {
   "cell_type": "code",
   "execution_count": 2,
   "metadata": {},
   "outputs": [],
   "source": [
    "from keras.models import Sequential\n",
    "from keras.layers import Conv2D,MaxPool2D,Flatten,Dense"
   ]
  },
  {
   "cell_type": "code",
   "execution_count": 3,
   "metadata": {},
   "outputs": [],
   "source": [
    "model=Sequential()\n",
    "#卷积层\n",
    "model.add(Conv2D(32,(3,3),input_shape=(50,50,3),activation='relu'))\n",
    "#池化层\n",
    "model.add(MaxPool2D(pool_size=(2,2)))\n",
    "#卷积层\n",
    "model.add(Conv2D(32,(3,3),activation='relu'))\n",
    "#池化层\n",
    "model.add(MaxPool2D(pool_size=(2,2)))\n",
    "#flattening layer\n",
    "model.add(Flatten())\n",
    "#FC layer\n",
    "model.add(Dense(units=128,activation='relu'))\n",
    "model.add(Dense(units=1,activation='sigmoid'))"
   ]
  },
  {
   "cell_type": "code",
   "execution_count": 4,
   "metadata": {},
   "outputs": [],
   "source": [
    "model.compile(optimizer='adam',loss='binary_crossentropy',metrics=['accuracy'])"
   ]
  },
  {
   "cell_type": "code",
   "execution_count": 5,
   "metadata": {},
   "outputs": [
    {
     "name": "stdout",
     "output_type": "stream",
     "text": [
      "Model: \"sequential_1\"\n",
      "_________________________________________________________________\n",
      "Layer (type)                 Output Shape              Param #   \n",
      "=================================================================\n",
      "conv2d_1 (Conv2D)            (None, 48, 48, 32)        896       \n",
      "_________________________________________________________________\n",
      "max_pooling2d_1 (MaxPooling2 (None, 24, 24, 32)        0         \n",
      "_________________________________________________________________\n",
      "conv2d_2 (Conv2D)            (None, 22, 22, 32)        9248      \n",
      "_________________________________________________________________\n",
      "max_pooling2d_2 (MaxPooling2 (None, 11, 11, 32)        0         \n",
      "_________________________________________________________________\n",
      "flatten_1 (Flatten)          (None, 3872)              0         \n",
      "_________________________________________________________________\n",
      "dense_1 (Dense)              (None, 128)               495744    \n",
      "_________________________________________________________________\n",
      "dense_2 (Dense)              (None, 1)                 129       \n",
      "=================================================================\n",
      "Total params: 506,017\n",
      "Trainable params: 506,017\n",
      "Non-trainable params: 0\n",
      "_________________________________________________________________\n"
     ]
    }
   ],
   "source": [
    "model.summary()"
   ]
  },
  {
   "cell_type": "code",
   "execution_count": 6,
   "metadata": {},
   "outputs": [
    {
     "name": "stdout",
     "output_type": "stream",
     "text": [
      "Epoch 1/25\n",
      "63/63 [==============================] - 6s 101ms/step - loss: 0.6902 - accuracy: 0.5360\n",
      "Epoch 2/25\n",
      "63/63 [==============================] - 6s 87ms/step - loss: 0.6512 - accuracy: 0.6085\n",
      "Epoch 3/25\n",
      "63/63 [==============================] - 6s 90ms/step - loss: 0.5779 - accuracy: 0.7005\n",
      "Epoch 4/25\n",
      "63/63 [==============================] - 6s 90ms/step - loss: 0.5091 - accuracy: 0.7475\n",
      "Epoch 5/25\n",
      "63/63 [==============================] - 6s 92ms/step - loss: 0.4666 - accuracy: 0.7775\n",
      "Epoch 6/25\n",
      "63/63 [==============================] - 6s 94ms/step - loss: 0.3983 - accuracy: 0.8195\n",
      "Epoch 7/25\n",
      "63/63 [==============================] - 6s 93ms/step - loss: 0.3611 - accuracy: 0.8330\n",
      "Epoch 8/25\n",
      "63/63 [==============================] - 6s 94ms/step - loss: 0.3031 - accuracy: 0.8685\n",
      "Epoch 9/25\n",
      "63/63 [==============================] - 6s 95ms/step - loss: 0.2379 - accuracy: 0.9095\n",
      "Epoch 10/25\n",
      "63/63 [==============================] - 6s 99ms/step - loss: 0.2054 - accuracy: 0.9155\n",
      "Epoch 11/25\n",
      "63/63 [==============================] - 6s 98ms/step - loss: 0.1508 - accuracy: 0.9490\n",
      "Epoch 12/25\n",
      "63/63 [==============================] - 6s 99ms/step - loss: 0.1328 - accuracy: 0.9510\n",
      "Epoch 13/25\n",
      "63/63 [==============================] - 6s 98ms/step - loss: 0.0832 - accuracy: 0.9780\n",
      "Epoch 14/25\n",
      "63/63 [==============================] - 6s 100ms/step - loss: 0.0579 - accuracy: 0.9845\n",
      "Epoch 15/25\n",
      "63/63 [==============================] - 6s 95ms/step - loss: 0.0445 - accuracy: 0.9925\n",
      "Epoch 16/25\n",
      "63/63 [==============================] - 6s 97ms/step - loss: 0.0308 - accuracy: 0.9970\n",
      "Epoch 17/25\n",
      "63/63 [==============================] - 6s 96ms/step - loss: 0.0173 - accuracy: 0.9990\n",
      "Epoch 18/25\n",
      "63/63 [==============================] - 6s 96ms/step - loss: 0.0173 - accuracy: 0.9990\n",
      "Epoch 19/25\n",
      "63/63 [==============================] - 6s 95ms/step - loss: 0.0114 - accuracy: 1.0000\n",
      "Epoch 20/25\n",
      "63/63 [==============================] - 6s 96ms/step - loss: 0.0070 - accuracy: 1.0000\n",
      "Epoch 21/25\n",
      "63/63 [==============================] - 6s 98ms/step - loss: 0.0038 - accuracy: 1.0000\n",
      "Epoch 22/25\n",
      "63/63 [==============================] - 6s 98ms/step - loss: 0.0031 - accuracy: 1.0000\n",
      "Epoch 23/25\n",
      "63/63 [==============================] - 6s 95ms/step - loss: 0.0025 - accuracy: 1.0000\n",
      "Epoch 24/25\n",
      "63/63 [==============================] - 6s 95ms/step - loss: 0.0021 - accuracy: 1.0000\n",
      "Epoch 25/25\n",
      "63/63 [==============================] - 6s 95ms/step - loss: 0.0018 - accuracy: 1.0000\n"
     ]
    },
    {
     "data": {
      "text/plain": [
       "<keras.callbacks.callbacks.History at 0x63ce3d350>"
      ]
     },
     "execution_count": 6,
     "metadata": {},
     "output_type": "execute_result"
    }
   ],
   "source": [
    "model.fit_generator(training_set,epochs=25)"
   ]
  },
  {
   "cell_type": "code",
   "execution_count": 8,
   "metadata": {},
   "outputs": [
    {
     "name": "stdout",
     "output_type": "stream",
     "text": [
      "[0.0005549628986045718, 1.0]\n"
     ]
    }
   ],
   "source": [
    "accuracy_train=model.evaluate_generator(training_set)\n",
    "print(accuracy_train)"
   ]
  },
  {
   "cell_type": "code",
   "execution_count": 9,
   "metadata": {},
   "outputs": [
    {
     "name": "stdout",
     "output_type": "stream",
     "text": [
      "Found 1000 images belonging to 2 classes.\n",
      "[0.08772583305835724, 0.7120000123977661]\n"
     ]
    }
   ],
   "source": [
    "test_set=train_datagen.flow_from_directory('./cats_and_dogs_filtered/validation',\n",
    "                                               target_size=(50,50),\n",
    "                                              batch_size=32,\n",
    "                                              class_mode='binary')\n",
    "accuracy_test=model.evaluate_generator(test_set)\n",
    "print(accuracy_test)"
   ]
  },
  {
   "cell_type": "code",
   "execution_count": 17,
   "metadata": {},
   "outputs": [
    {
     "name": "stdout",
     "output_type": "stream",
     "text": [
      "[[1]]\n"
     ]
    }
   ],
   "source": [
    "from keras.preprocessing.image import load_img,img_to_array\n",
    "pic_dog='462.png'\n",
    "pic_dog=load_img(pic_dog,target_size=(50,50))\n",
    "pic_dog=img_to_array(pic_dog)\n",
    "pic_dog=pic_dog/255\n",
    "pic_dog=pic_dog.reshape(1,50,50,3)\n",
    "result=model.predict_classes(pic_dog)\n",
    "print(result)"
   ]
  },
  {
   "cell_type": "code",
   "execution_count": 18,
   "metadata": {},
   "outputs": [
    {
     "data": {
      "text/plain": [
       "{'cats': 0, 'dogs': 1}"
      ]
     },
     "execution_count": 18,
     "metadata": {},
     "output_type": "execute_result"
    }
   ],
   "source": [
    "training_set.class_indices"
   ]
  },
  {
   "cell_type": "code",
   "execution_count": null,
   "metadata": {},
   "outputs": [],
   "source": []
  },
  {
   "cell_type": "code",
   "execution_count": null,
   "metadata": {},
   "outputs": [],
   "source": []
  },
  {
   "cell_type": "code",
   "execution_count": null,
   "metadata": {},
   "outputs": [],
   "source": []
  },
  {
   "cell_type": "code",
   "execution_count": null,
   "metadata": {},
   "outputs": [],
   "source": []
  },
  {
   "cell_type": "code",
   "execution_count": null,
   "metadata": {},
   "outputs": [],
   "source": []
  },
  {
   "cell_type": "code",
   "execution_count": null,
   "metadata": {},
   "outputs": [],
   "source": []
  },
  {
   "cell_type": "code",
   "execution_count": null,
   "metadata": {},
   "outputs": [],
   "source": []
  },
  {
   "cell_type": "code",
   "execution_count": null,
   "metadata": {},
   "outputs": [],
   "source": []
  },
  {
   "cell_type": "code",
   "execution_count": null,
   "metadata": {},
   "outputs": [],
   "source": []
  }
 ],
 "metadata": {
  "kernelspec": {
   "display_name": "Python 3",
   "language": "python",
   "name": "python3"
  },
  "language_info": {
   "codemirror_mode": {
    "name": "ipython",
    "version": 3
   },
   "file_extension": ".py",
   "mimetype": "text/x-python",
   "name": "python",
   "nbconvert_exporter": "python",
   "pygments_lexer": "ipython3",
   "version": "3.7.6"
  }
 },
 "nbformat": 4,
 "nbformat_minor": 4
}
