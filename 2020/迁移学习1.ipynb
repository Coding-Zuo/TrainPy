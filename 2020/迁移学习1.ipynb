{
 "cells": [
  {
   "cell_type": "code",
   "execution_count": 6,
   "metadata": {},
   "outputs": [
    {
     "data": {
      "text/html": [
       "<div>\n",
       "<style scoped>\n",
       "    .dataframe tbody tr th:only-of-type {\n",
       "        vertical-align: middle;\n",
       "    }\n",
       "\n",
       "    .dataframe tbody tr th {\n",
       "        vertical-align: top;\n",
       "    }\n",
       "\n",
       "    .dataframe thead th {\n",
       "        text-align: right;\n",
       "    }\n",
       "</style>\n",
       "<table border=\"1\" class=\"dataframe\">\n",
       "  <thead>\n",
       "    <tr style=\"text-align: right;\">\n",
       "      <th></th>\n",
       "      <th>x</th>\n",
       "      <th>y</th>\n",
       "    </tr>\n",
       "  </thead>\n",
       "  <tbody>\n",
       "    <tr>\n",
       "      <th>0</th>\n",
       "      <td>-5.0</td>\n",
       "      <td>25.00</td>\n",
       "    </tr>\n",
       "    <tr>\n",
       "      <th>1</th>\n",
       "      <td>-4.9</td>\n",
       "      <td>24.01</td>\n",
       "    </tr>\n",
       "    <tr>\n",
       "      <th>2</th>\n",
       "      <td>-4.8</td>\n",
       "      <td>23.04</td>\n",
       "    </tr>\n",
       "    <tr>\n",
       "      <th>3</th>\n",
       "      <td>-4.7</td>\n",
       "      <td>22.09</td>\n",
       "    </tr>\n",
       "    <tr>\n",
       "      <th>4</th>\n",
       "      <td>-4.6</td>\n",
       "      <td>21.16</td>\n",
       "    </tr>\n",
       "  </tbody>\n",
       "</table>\n",
       "</div>"
      ],
      "text/plain": [
       "     x      y\n",
       "0 -5.0  25.00\n",
       "1 -4.9  24.01\n",
       "2 -4.8  23.04\n",
       "3 -4.7  22.09\n",
       "4 -4.6  21.16"
      ]
     },
     "execution_count": 6,
     "metadata": {},
     "output_type": "execute_result"
    }
   ],
   "source": [
    "import pandas as pd\n",
    "import numpy as np\n",
    "data=pd.read_csv('qianyixuexi/transfer_data.csv')\n",
    "data.head()"
   ]
  },
  {
   "cell_type": "code",
   "execution_count": 7,
   "metadata": {},
   "outputs": [
    {
     "data": {
      "text/plain": [
       "0    25.00\n",
       "1    24.01\n",
       "2    23.04\n",
       "3    22.09\n",
       "4    21.16\n",
       "Name: y, dtype: float64"
      ]
     },
     "execution_count": 7,
     "metadata": {},
     "output_type": "execute_result"
    }
   ],
   "source": [
    "X=data.loc[:,'x']\n",
    "y=data.loc[:,'y']\n",
    "y.head()"
   ]
  },
  {
   "cell_type": "code",
   "execution_count": 10,
   "metadata": {},
   "outputs": [
    {
     "data": {
      "image/png": "[encoded data removed]",
      "text/plain": [
       "<Figure size 504x360 with 1 Axes>"
      ]
     },
     "metadata": {
      "needs_background": "light"
     },
     "output_type": "display_data"
    }
   ],
   "source": [
    "from matplotlib import pyplot as plt\n",
    "fig1=plt.figure(figsize=(7,5))\n",
    "plt.scatter(X,y)\n",
    "plt.show()"
   ]
  },
  {
   "cell_type": "code",
   "execution_count": 11,
   "metadata": {},
   "outputs": [
    {
     "data": {
      "text/plain": [
       "(101, 1)"
      ]
     },
     "execution_count": 11,
     "metadata": {},
     "output_type": "execute_result"
    }
   ],
   "source": [
    "X=np.array(X).reshape(-1,1)\n",
    "X.shape"
   ]
  },
  {
   "cell_type": "code",
   "execution_count": 12,
   "metadata": {},
   "outputs": [
    {
     "name": "stderr",
     "output_type": "stream",
     "text": [
      "Using TensorFlow backend.\n"
     ]
    },
    {
     "name": "stdout",
     "output_type": "stream",
     "text": [
      "Model: \"sequential_1\"\n",
      "_________________________________________________________________\n",
      "Layer (type)                 Output Shape              Param #   \n",
      "=================================================================\n",
      "dense_1 (Dense)              (None, 50)                100       \n",
      "_________________________________________________________________\n",
      "dense_2 (Dense)              (None, 50)                2550      \n",
      "_________________________________________________________________\n",
      "dense_3 (Dense)              (None, 1)                 51        \n",
      "=================================================================\n",
      "Total params: 2,701\n",
      "Trainable params: 2,701\n",
      "Non-trainable params: 0\n",
      "_________________________________________________________________\n"
     ]
    }
   ],
   "source": [
    "from keras.models import Sequential\n",
    "from keras.layers import Dense\n",
    "model1=Sequential()\n",
    "model1.add(Dense(units=50,input_dim=1,activation='relu'))\n",
    "model1.add(Dense(units=50,activation='relu'))\n",
    "model1.add(Dense(units=1,activation='linear'))\n",
    "model1.compile(optimizer='adam',loss='mean_squared_error')\n",
    "model1.summary()"
   ]
  },
  {
   "cell_type": "code",
   "execution_count": 18,
   "metadata": {},
   "outputs": [
    {
     "name": "stdout",
     "output_type": "stream",
     "text": [
      "Epoch 1/200\n",
      "101/101 [==============================] - 0s 85us/step - loss: 0.5258\n",
      "Epoch 2/200\n",
      "101/101 [==============================] - 0s 111us/step - loss: 0.5052\n",
      "Epoch 3/200\n",
      "101/101 [==============================] - 0s 100us/step - loss: 0.5025\n",
      "Epoch 4/200\n",
      "101/101 [==============================] - 0s 117us/step - loss: 0.5212\n",
      "Epoch 5/200\n",
      "101/101 [==============================] - 0s 100us/step - loss: 0.5041\n",
      "Epoch 6/200\n",
      "101/101 [==============================] - 0s 117us/step - loss: 0.4784\n",
      "Epoch 7/200\n",
      "101/101 [==============================] - 0s 90us/step - loss: 0.4786\n",
      "Epoch 8/200\n",
      "101/101 [==============================] - 0s 116us/step - loss: 0.4647\n",
      "Epoch 9/200\n",
      "101/101 [==============================] - 0s 100us/step - loss: 0.4522\n",
      "Epoch 10/200\n",
      "101/101 [==============================] - 0s 106us/step - loss: 0.4430\n",
      "Epoch 11/200\n",
      "101/101 [==============================] - 0s 110us/step - loss: 0.4436\n",
      "Epoch 12/200\n",
      "101/101 [==============================] - 0s 109us/step - loss: 0.4309\n",
      "Epoch 13/200\n",
      "101/101 [==============================] - 0s 101us/step - loss: 0.4186\n",
      "Epoch 14/200\n",
      "101/101 [==============================] - 0s 113us/step - loss: 0.4182\n",
      "Epoch 15/200\n",
      "101/101 [==============================] - 0s 98us/step - loss: 0.4173\n",
      "Epoch 16/200\n",
      "101/101 [==============================] - 0s 94us/step - loss: 0.4084\n",
      "Epoch 17/200\n",
      "101/101 [==============================] - 0s 112us/step - loss: 0.4013\n",
      "Epoch 18/200\n",
      "101/101 [==============================] - 0s 106us/step - loss: 0.4122\n",
      "Epoch 19/200\n",
      "101/101 [==============================] - 0s 120us/step - loss: 0.4112\n",
      "Epoch 20/200\n",
      "101/101 [==============================] - 0s 115us/step - loss: 0.3943\n",
      "Epoch 21/200\n",
      "101/101 [==============================] - 0s 113us/step - loss: 0.4257\n",
      "Epoch 22/200\n",
      "101/101 [==============================] - 0s 97us/step - loss: 0.3734\n",
      "Epoch 23/200\n",
      "101/101 [==============================] - 0s 114us/step - loss: 0.3611\n",
      "Epoch 24/200\n",
      "101/101 [==============================] - 0s 153us/step - loss: 0.3711\n",
      "Epoch 25/200\n",
      "101/101 [==============================] - 0s 105us/step - loss: 0.3457\n",
      "Epoch 26/200\n",
      "101/101 [==============================] - 0s 113us/step - loss: 0.3503\n",
      "Epoch 27/200\n",
      "101/101 [==============================] - 0s 111us/step - loss: 0.3612\n",
      "Epoch 28/200\n",
      "101/101 [==============================] - 0s 105us/step - loss: 0.3390\n",
      "Epoch 29/200\n",
      "101/101 [==============================] - 0s 98us/step - loss: 0.3514\n",
      "Epoch 30/200\n",
      "101/101 [==============================] - 0s 107us/step - loss: 0.3341\n",
      "Epoch 31/200\n",
      "101/101 [==============================] - 0s 93us/step - loss: 0.3159\n",
      "Epoch 32/200\n",
      "101/101 [==============================] - 0s 116us/step - loss: 0.3143\n",
      "Epoch 33/200\n",
      "101/101 [==============================] - 0s 94us/step - loss: 0.3106\n",
      "Epoch 34/200\n",
      "101/101 [==============================] - 0s 92us/step - loss: 0.2944\n",
      "Epoch 35/200\n",
      "101/101 [==============================] - 0s 116us/step - loss: 0.3044\n",
      "Epoch 36/200\n",
      "101/101 [==============================] - 0s 89us/step - loss: 0.2991\n",
      "Epoch 37/200\n",
      "101/101 [==============================] - 0s 97us/step - loss: 0.2974\n",
      "Epoch 38/200\n",
      "101/101 [==============================] - 0s 100us/step - loss: 0.3059\n",
      "Epoch 39/200\n",
      "101/101 [==============================] - 0s 111us/step - loss: 0.2878\n",
      "Epoch 40/200\n",
      "101/101 [==============================] - 0s 94us/step - loss: 0.2844\n",
      "Epoch 41/200\n",
      "101/101 [==============================] - 0s 95us/step - loss: 0.2708\n",
      "Epoch 42/200\n",
      "101/101 [==============================] - 0s 96us/step - loss: 0.2627\n",
      "Epoch 43/200\n",
      "101/101 [==============================] - 0s 89us/step - loss: 0.2594\n",
      "Epoch 44/200\n",
      "101/101 [==============================] - 0s 101us/step - loss: 0.2608\n",
      "Epoch 45/200\n",
      "101/101 [==============================] - 0s 107us/step - loss: 0.2520\n",
      "Epoch 46/200\n",
      "101/101 [==============================] - 0s 98us/step - loss: 0.2481\n",
      "Epoch 47/200\n",
      "101/101 [==============================] - 0s 113us/step - loss: 0.2535\n",
      "Epoch 48/200\n",
      "101/101 [==============================] - 0s 82us/step - loss: 0.2520\n",
      "Epoch 49/200\n",
      "101/101 [==============================] - 0s 101us/step - loss: 0.2362\n",
      "Epoch 50/200\n",
      "101/101 [==============================] - 0s 94us/step - loss: 0.2365\n",
      "Epoch 51/200\n",
      "101/101 [==============================] - 0s 92us/step - loss: 0.2375\n",
      "Epoch 52/200\n",
      "101/101 [==============================] - 0s 95us/step - loss: 0.2281\n",
      "Epoch 53/200\n",
      "101/101 [==============================] - 0s 106us/step - loss: 0.2250\n",
      "Epoch 54/200\n",
      "101/101 [==============================] - 0s 86us/step - loss: 0.2300\n",
      "Epoch 55/200\n",
      "101/101 [==============================] - 0s 99us/step - loss: 0.2200\n",
      "Epoch 56/200\n",
      "101/101 [==============================] - 0s 85us/step - loss: 0.2284\n",
      "Epoch 57/200\n",
      "101/101 [==============================] - 0s 95us/step - loss: 0.2276\n",
      "Epoch 58/200\n",
      "101/101 [==============================] - 0s 93us/step - loss: 0.2052\n",
      "Epoch 59/200\n",
      "101/101 [==============================] - 0s 100us/step - loss: 0.2144\n",
      "Epoch 60/200\n",
      "101/101 [==============================] - 0s 101us/step - loss: 0.2180\n",
      "Epoch 61/200\n",
      "101/101 [==============================] - 0s 95us/step - loss: 0.2071\n",
      "Epoch 62/200\n",
      "101/101 [==============================] - 0s 84us/step - loss: 0.1975\n",
      "Epoch 63/200\n",
      "101/101 [==============================] - 0s 111us/step - loss: 0.1921\n",
      "Epoch 64/200\n",
      "101/101 [==============================] - 0s 93us/step - loss: 0.1929\n",
      "Epoch 65/200\n",
      "101/101 [==============================] - 0s 109us/step - loss: 0.1914\n",
      "Epoch 66/200\n",
      "101/101 [==============================] - 0s 80us/step - loss: 0.1865\n",
      "Epoch 67/200\n",
      "101/101 [==============================] - 0s 89us/step - loss: 0.1884\n",
      "Epoch 68/200\n",
      "101/101 [==============================] - 0s 101us/step - loss: 0.1849\n",
      "Epoch 69/200\n",
      "101/101 [==============================] - 0s 102us/step - loss: 0.1788\n",
      "Epoch 70/200\n",
      "101/101 [==============================] - 0s 109us/step - loss: 0.1788\n",
      "Epoch 71/200\n",
      "101/101 [==============================] - 0s 102us/step - loss: 0.1807\n",
      "Epoch 72/200\n",
      "101/101 [==============================] - 0s 94us/step - loss: 0.1752\n",
      "Epoch 73/200\n",
      "101/101 [==============================] - 0s 97us/step - loss: 0.1797\n",
      "Epoch 74/200\n",
      "101/101 [==============================] - 0s 92us/step - loss: 0.1737\n",
      "Epoch 75/200\n",
      "101/101 [==============================] - 0s 85us/step - loss: 0.1676\n",
      "Epoch 76/200\n",
      "101/101 [==============================] - 0s 93us/step - loss: 0.1636\n",
      "Epoch 77/200\n",
      "101/101 [==============================] - 0s 81us/step - loss: 0.1620\n",
      "Epoch 78/200\n",
      "101/101 [==============================] - 0s 91us/step - loss: 0.1651\n",
      "Epoch 79/200\n",
      "101/101 [==============================] - 0s 86us/step - loss: 0.1681\n",
      "Epoch 80/200\n",
      "101/101 [==============================] - 0s 80us/step - loss: 0.1566\n",
      "Epoch 81/200\n",
      "101/101 [==============================] - 0s 87us/step - loss: 0.1542\n",
      "Epoch 82/200\n",
      "101/101 [==============================] - 0s 81us/step - loss: 0.1507\n",
      "Epoch 83/200\n",
      "101/101 [==============================] - 0s 97us/step - loss: 0.1554\n",
      "Epoch 84/200\n",
      "101/101 [==============================] - 0s 83us/step - loss: 0.1534\n",
      "Epoch 85/200\n",
      "101/101 [==============================] - 0s 93us/step - loss: 0.1493\n",
      "Epoch 86/200\n",
      "101/101 [==============================] - 0s 98us/step - loss: 0.1571\n",
      "Epoch 87/200\n",
      "101/101 [==============================] - 0s 90us/step - loss: 0.1479\n",
      "Epoch 88/200\n",
      "101/101 [==============================] - 0s 104us/step - loss: 0.1437\n",
      "Epoch 89/200\n",
      "101/101 [==============================] - 0s 86us/step - loss: 0.1384\n",
      "Epoch 90/200\n",
      "101/101 [==============================] - 0s 94us/step - loss: 0.1422\n",
      "Epoch 91/200\n",
      "101/101 [==============================] - 0s 98us/step - loss: 0.1387\n",
      "Epoch 92/200\n",
      "101/101 [==============================] - 0s 94us/step - loss: 0.1370\n",
      "Epoch 93/200\n",
      "101/101 [==============================] - 0s 105us/step - loss: 0.1330\n",
      "Epoch 94/200\n",
      "101/101 [==============================] - 0s 90us/step - loss: 0.1451\n",
      "Epoch 95/200\n",
      "101/101 [==============================] - 0s 96us/step - loss: 0.1276\n",
      "Epoch 96/200\n",
      "101/101 [==============================] - 0s 127us/step - loss: 0.1378\n",
      "Epoch 97/200\n",
      "101/101 [==============================] - 0s 108us/step - loss: 0.1440\n",
      "Epoch 98/200\n"
     ]
    },
    {
     "name": "stdout",
     "output_type": "stream",
     "text": [
      "101/101 [==============================] - 0s 106us/step - loss: 0.1258\n",
      "Epoch 99/200\n",
      "101/101 [==============================] - 0s 99us/step - loss: 0.1325\n",
      "Epoch 100/200\n",
      "101/101 [==============================] - 0s 115us/step - loss: 0.1328\n",
      "Epoch 101/200\n",
      "101/101 [==============================] - 0s 121us/step - loss: 0.1237\n",
      "Epoch 102/200\n",
      "101/101 [==============================] - 0s 100us/step - loss: 0.1204\n",
      "Epoch 103/200\n",
      "101/101 [==============================] - 0s 94us/step - loss: 0.1183\n",
      "Epoch 104/200\n",
      "101/101 [==============================] - 0s 81us/step - loss: 0.1163\n",
      "Epoch 105/200\n",
      "101/101 [==============================] - 0s 87us/step - loss: 0.1123\n",
      "Epoch 106/200\n",
      "101/101 [==============================] - 0s 85us/step - loss: 0.1119\n",
      "Epoch 107/200\n",
      "101/101 [==============================] - 0s 80us/step - loss: 0.1073\n",
      "Epoch 108/200\n",
      "101/101 [==============================] - 0s 82us/step - loss: 0.1097\n",
      "Epoch 109/200\n",
      "101/101 [==============================] - 0s 87us/step - loss: 0.1076\n",
      "Epoch 110/200\n",
      "101/101 [==============================] - 0s 94us/step - loss: 0.1088\n",
      "Epoch 111/200\n",
      "101/101 [==============================] - 0s 90us/step - loss: 0.1053\n",
      "Epoch 112/200\n",
      "101/101 [==============================] - 0s 90us/step - loss: 0.1029\n",
      "Epoch 113/200\n",
      "101/101 [==============================] - 0s 88us/step - loss: 0.1281\n",
      "Epoch 114/200\n",
      "101/101 [==============================] - 0s 79us/step - loss: 0.1051\n",
      "Epoch 115/200\n",
      "101/101 [==============================] - 0s 85us/step - loss: 0.1103\n",
      "Epoch 116/200\n",
      "101/101 [==============================] - 0s 84us/step - loss: 0.1031\n",
      "Epoch 117/200\n",
      "101/101 [==============================] - 0s 85us/step - loss: 0.1047\n",
      "Epoch 118/200\n",
      "101/101 [==============================] - 0s 81us/step - loss: 0.1071\n",
      "Epoch 119/200\n",
      "101/101 [==============================] - 0s 97us/step - loss: 0.0952\n",
      "Epoch 120/200\n",
      "101/101 [==============================] - 0s 89us/step - loss: 0.0967\n",
      "Epoch 121/200\n",
      "101/101 [==============================] - 0s 80us/step - loss: 0.0952\n",
      "Epoch 122/200\n",
      "101/101 [==============================] - 0s 70us/step - loss: 0.0895\n",
      "Epoch 123/200\n",
      "101/101 [==============================] - 0s 71us/step - loss: 0.0910\n",
      "Epoch 124/200\n",
      "101/101 [==============================] - 0s 64us/step - loss: 0.0928\n",
      "Epoch 125/200\n",
      "101/101 [==============================] - 0s 68us/step - loss: 0.1018\n",
      "Epoch 126/200\n",
      "101/101 [==============================] - 0s 64us/step - loss: 0.0930\n",
      "Epoch 127/200\n",
      "101/101 [==============================] - 0s 64us/step - loss: 0.0949\n",
      "Epoch 128/200\n",
      "101/101 [==============================] - 0s 66us/step - loss: 0.1038\n",
      "Epoch 129/200\n",
      "101/101 [==============================] - 0s 68us/step - loss: 0.0882\n",
      "Epoch 130/200\n",
      "101/101 [==============================] - 0s 66us/step - loss: 0.0961\n",
      "Epoch 131/200\n",
      "101/101 [==============================] - 0s 73us/step - loss: 0.0937\n",
      "Epoch 132/200\n",
      "101/101 [==============================] - 0s 72us/step - loss: 0.0817\n",
      "Epoch 133/200\n",
      "101/101 [==============================] - 0s 71us/step - loss: 0.0835\n",
      "Epoch 134/200\n",
      "101/101 [==============================] - 0s 72us/step - loss: 0.0801\n",
      "Epoch 135/200\n",
      "101/101 [==============================] - 0s 67us/step - loss: 0.0829\n",
      "Epoch 136/200\n",
      "101/101 [==============================] - 0s 69us/step - loss: 0.0855\n",
      "Epoch 137/200\n",
      "101/101 [==============================] - 0s 67us/step - loss: 0.0788\n",
      "Epoch 138/200\n",
      "101/101 [==============================] - 0s 66us/step - loss: 0.0739\n",
      "Epoch 139/200\n",
      "101/101 [==============================] - 0s 65us/step - loss: 0.0843\n",
      "Epoch 140/200\n",
      "101/101 [==============================] - 0s 68us/step - loss: 0.0866\n",
      "Epoch 141/200\n",
      "101/101 [==============================] - 0s 67us/step - loss: 0.0772\n",
      "Epoch 142/200\n",
      "101/101 [==============================] - 0s 66us/step - loss: 0.0789\n",
      "Epoch 143/200\n",
      "101/101 [==============================] - 0s 66us/step - loss: 0.0785\n",
      "Epoch 144/200\n",
      "101/101 [==============================] - 0s 62us/step - loss: 0.0729\n",
      "Epoch 145/200\n",
      "101/101 [==============================] - 0s 73us/step - loss: 0.0730\n",
      "Epoch 146/200\n",
      "101/101 [==============================] - 0s 77us/step - loss: 0.0734\n",
      "Epoch 147/200\n",
      "101/101 [==============================] - 0s 84us/step - loss: 0.0681\n",
      "Epoch 148/200\n",
      "101/101 [==============================] - 0s 78us/step - loss: 0.0676\n",
      "Epoch 149/200\n",
      "101/101 [==============================] - 0s 78us/step - loss: 0.0676\n",
      "Epoch 150/200\n",
      "101/101 [==============================] - 0s 78us/step - loss: 0.0700\n",
      "Epoch 151/200\n",
      "101/101 [==============================] - 0s 77us/step - loss: 0.0708\n",
      "Epoch 152/200\n",
      "101/101 [==============================] - 0s 78us/step - loss: 0.0719\n",
      "Epoch 153/200\n",
      "101/101 [==============================] - 0s 74us/step - loss: 0.0745\n",
      "Epoch 154/200\n",
      "101/101 [==============================] - 0s 72us/step - loss: 0.0681\n",
      "Epoch 155/200\n",
      "101/101 [==============================] - 0s 74us/step - loss: 0.0694\n",
      "Epoch 156/200\n",
      "101/101 [==============================] - 0s 74us/step - loss: 0.0695\n",
      "Epoch 157/200\n",
      "101/101 [==============================] - 0s 78us/step - loss: 0.0677\n",
      "Epoch 158/200\n",
      "101/101 [==============================] - 0s 73us/step - loss: 0.0644\n",
      "Epoch 159/200\n",
      "101/101 [==============================] - 0s 84us/step - loss: 0.0632\n",
      "Epoch 160/200\n",
      "101/101 [==============================] - 0s 85us/step - loss: 0.0711\n",
      "Epoch 161/200\n",
      "101/101 [==============================] - 0s 86us/step - loss: 0.0668\n",
      "Epoch 162/200\n",
      "101/101 [==============================] - 0s 76us/step - loss: 0.0608\n",
      "Epoch 163/200\n",
      "101/101 [==============================] - 0s 73us/step - loss: 0.0558\n",
      "Epoch 164/200\n",
      "101/101 [==============================] - 0s 72us/step - loss: 0.0631\n",
      "Epoch 165/200\n",
      "101/101 [==============================] - 0s 72us/step - loss: 0.0602\n",
      "Epoch 166/200\n",
      "101/101 [==============================] - 0s 74us/step - loss: 0.0571\n",
      "Epoch 167/200\n",
      "101/101 [==============================] - 0s 67us/step - loss: 0.0573\n",
      "Epoch 168/200\n",
      "101/101 [==============================] - 0s 64us/step - loss: 0.0562\n",
      "Epoch 169/200\n",
      "101/101 [==============================] - 0s 63us/step - loss: 0.0550\n",
      "Epoch 170/200\n",
      "101/101 [==============================] - 0s 74us/step - loss: 0.0547\n",
      "Epoch 171/200\n",
      "101/101 [==============================] - 0s 76us/step - loss: 0.0566\n",
      "Epoch 172/200\n",
      "101/101 [==============================] - 0s 74us/step - loss: 0.0582\n",
      "Epoch 173/200\n",
      "101/101 [==============================] - 0s 71us/step - loss: 0.0514\n",
      "Epoch 174/200\n",
      "101/101 [==============================] - 0s 66us/step - loss: 0.0601\n",
      "Epoch 175/200\n",
      "101/101 [==============================] - 0s 71us/step - loss: 0.0555\n",
      "Epoch 176/200\n",
      "101/101 [==============================] - 0s 70us/step - loss: 0.0567\n",
      "Epoch 177/200\n",
      "101/101 [==============================] - 0s 71us/step - loss: 0.0672\n",
      "Epoch 178/200\n",
      "101/101 [==============================] - 0s 70us/step - loss: 0.0587\n",
      "Epoch 179/200\n",
      "101/101 [==============================] - 0s 69us/step - loss: 0.0594\n",
      "Epoch 180/200\n",
      "101/101 [==============================] - 0s 65us/step - loss: 0.0547\n",
      "Epoch 181/200\n",
      "101/101 [==============================] - 0s 68us/step - loss: 0.0508\n",
      "Epoch 182/200\n",
      "101/101 [==============================] - 0s 74us/step - loss: 0.0528\n",
      "Epoch 183/200\n",
      "101/101 [==============================] - 0s 71us/step - loss: 0.0485\n",
      "Epoch 184/200\n",
      "101/101 [==============================] - 0s 69us/step - loss: 0.0467\n",
      "Epoch 185/200\n",
      "101/101 [==============================] - 0s 69us/step - loss: 0.0471\n",
      "Epoch 186/200\n",
      "101/101 [==============================] - 0s 70us/step - loss: 0.0460\n",
      "Epoch 187/200\n",
      "101/101 [==============================] - 0s 72us/step - loss: 0.0521\n",
      "Epoch 188/200\n",
      "101/101 [==============================] - 0s 73us/step - loss: 0.0497\n",
      "Epoch 189/200\n",
      "101/101 [==============================] - 0s 73us/step - loss: 0.0540\n",
      "Epoch 190/200\n",
      "101/101 [==============================] - 0s 71us/step - loss: 0.0484\n",
      "Epoch 191/200\n",
      "101/101 [==============================] - 0s 69us/step - loss: 0.0461\n",
      "Epoch 192/200\n",
      "101/101 [==============================] - 0s 78us/step - loss: 0.0488\n",
      "Epoch 193/200\n",
      "101/101 [==============================] - 0s 76us/step - loss: 0.0437\n",
      "Epoch 194/200\n"
     ]
    },
    {
     "name": "stdout",
     "output_type": "stream",
     "text": [
      "101/101 [==============================] - 0s 89us/step - loss: 0.0446\n",
      "Epoch 195/200\n",
      "101/101 [==============================] - 0s 92us/step - loss: 0.0438\n",
      "Epoch 196/200\n",
      "101/101 [==============================] - 0s 83us/step - loss: 0.0418\n",
      "Epoch 197/200\n",
      "101/101 [==============================] - 0s 95us/step - loss: 0.0424\n",
      "Epoch 198/200\n",
      "101/101 [==============================] - 0s 79us/step - loss: 0.0414\n",
      "Epoch 199/200\n",
      "101/101 [==============================] - 0s 88us/step - loss: 0.0420\n",
      "Epoch 200/200\n",
      "101/101 [==============================] - 0s 89us/step - loss: 0.0441\n"
     ]
    },
    {
     "data": {
      "text/plain": [
       "<keras.callbacks.callbacks.History at 0x11ce148d0>"
      ]
     },
     "execution_count": 18,
     "metadata": {},
     "output_type": "execute_result"
    }
   ],
   "source": [
    "model1.fit(X,y,epochs=200)"
   ]
  },
  {
   "cell_type": "code",
   "execution_count": 15,
   "metadata": {},
   "outputs": [
    {
     "data": {
      "image/png": "[encoded data removed]",
      "text/plain": [
       "<Figure size 504x360 with 1 Axes>"
      ]
     },
     "metadata": {
      "needs_background": "light"
     },
     "output_type": "display_data"
    }
   ],
   "source": [
    "y_predict=model1.predict(X)\n",
    "fig1=plt.figure(figsize=(7,5))\n",
    "plt.scatter(X,y)\n",
    "plt.plot(X,y_predict,'r')\n",
    "plt.show()"
   ]
  },
  {
   "cell_type": "code",
   "execution_count": 19,
   "metadata": {},
   "outputs": [
    {
     "data": {
      "image/png": "[encoded data removed]",
      "text/plain": [
       "<Figure size 504x360 with 1 Axes>"
      ]
     },
     "metadata": {
      "needs_background": "light"
     },
     "output_type": "display_data"
    }
   ],
   "source": [
    "y_predict=model1.predict(X)\n",
    "fig1=plt.figure(figsize=(7,5))\n",
    "plt.scatter(X,y)\n",
    "plt.plot(X,y_predict,'r')\n",
    "plt.show()"
   ]
  },
  {
   "cell_type": "code",
   "execution_count": 25,
   "metadata": {},
   "outputs": [
    {
     "data": {
      "text/plain": [
       "['model.m']"
      ]
     },
     "execution_count": 25,
     "metadata": {},
     "output_type": "execute_result"
    }
   ],
   "source": [
    "from sklearn.externals import joblib\n",
    "joblib.dump(model1,'model.m')"
   ]
  },
  {
   "cell_type": "code",
   "execution_count": 26,
   "metadata": {},
   "outputs": [],
   "source": [
    "model2=joblib.load('model.m')"
   ]
  },
  {
   "cell_type": "code",
   "execution_count": 27,
   "metadata": {},
   "outputs": [
    {
     "data": {
      "text/html": [
       "<div>\n",
       "<style scoped>\n",
       "    .dataframe tbody tr th:only-of-type {\n",
       "        vertical-align: middle;\n",
       "    }\n",
       "\n",
       "    .dataframe tbody tr th {\n",
       "        vertical-align: top;\n",
       "    }\n",
       "\n",
       "    .dataframe thead th {\n",
       "        text-align: right;\n",
       "    }\n",
       "</style>\n",
       "<table border=\"1\" class=\"dataframe\">\n",
       "  <thead>\n",
       "    <tr style=\"text-align: right;\">\n",
       "      <th></th>\n",
       "      <th>x2</th>\n",
       "      <th>y2</th>\n",
       "    </tr>\n",
       "  </thead>\n",
       "  <tbody>\n",
       "    <tr>\n",
       "      <th>0</th>\n",
       "      <td>-5.0</td>\n",
       "      <td>26.00</td>\n",
       "    </tr>\n",
       "    <tr>\n",
       "      <th>1</th>\n",
       "      <td>-4.9</td>\n",
       "      <td>25.21</td>\n",
       "    </tr>\n",
       "    <tr>\n",
       "      <th>2</th>\n",
       "      <td>-4.8</td>\n",
       "      <td>24.44</td>\n",
       "    </tr>\n",
       "    <tr>\n",
       "      <th>3</th>\n",
       "      <td>-4.7</td>\n",
       "      <td>23.69</td>\n",
       "    </tr>\n",
       "    <tr>\n",
       "      <th>4</th>\n",
       "      <td>-4.6</td>\n",
       "      <td>22.96</td>\n",
       "    </tr>\n",
       "  </tbody>\n",
       "</table>\n",
       "</div>"
      ],
      "text/plain": [
       "    x2     y2\n",
       "0 -5.0  26.00\n",
       "1 -4.9  25.21\n",
       "2 -4.8  24.44\n",
       "3 -4.7  23.69\n",
       "4 -4.6  22.96"
      ]
     },
     "execution_count": 27,
     "metadata": {},
     "output_type": "execute_result"
    }
   ],
   "source": [
    "data2=pd.read_csv('qianyixuexi/transfer_data2.csv')\n",
    "data2.head()"
   ]
  },
  {
   "cell_type": "code",
   "execution_count": 30,
   "metadata": {},
   "outputs": [
    {
     "name": "stdout",
     "output_type": "stream",
     "text": [
      "(101, 1)\n"
     ]
    }
   ],
   "source": [
    "X2=data2.loc[:,'x2']\n",
    "y2=data2.loc[:,'y2']\n",
    "X2=np.array(X2).reshape(-1,1)\n",
    "print(X2.shape)"
   ]
  },
  {
   "cell_type": "code",
   "execution_count": 31,
   "metadata": {},
   "outputs": [],
   "source": [
    "y2_predict=model2.predict(X2)"
   ]
  },
  {
   "cell_type": "code",
   "execution_count": 36,
   "metadata": {},
   "outputs": [
    {
     "data": {
      "image/png": "[encoded data removed]",
      "text/plain": [
       "<Figure size 504x360 with 1 Axes>"
      ]
     },
     "metadata": {
      "needs_background": "light"
     },
     "output_type": "display_data"
    }
   ],
   "source": [
    "fig1=plt.figure(figsize=(7,5))\n",
    "plt.scatter(X2,y2)\n",
    "plt.scatter(X,y)\n",
    "plt.plot(X,y2_predict,'r')\n",
    "plt.show()"
   ]
  },
  {
   "cell_type": "code",
   "execution_count": 41,
   "metadata": {},
   "outputs": [
    {
     "name": "stdout",
     "output_type": "stream",
     "text": [
      "Epoch 1/100\n",
      "101/101 [==============================] - 0s 90us/step - loss: 2.7772\n",
      "Epoch 2/100\n",
      "101/101 [==============================] - 0s 103us/step - loss: 2.1577\n",
      "Epoch 3/100\n",
      "101/101 [==============================] - 0s 93us/step - loss: 1.8898\n",
      "Epoch 4/100\n",
      "101/101 [==============================] - 0s 83us/step - loss: 1.6728\n",
      "Epoch 5/100\n",
      "101/101 [==============================] - 0s 100us/step - loss: 1.4297\n",
      "Epoch 6/100\n",
      "101/101 [==============================] - 0s 102us/step - loss: 1.2297\n",
      "Epoch 7/100\n",
      "101/101 [==============================] - 0s 102us/step - loss: 1.1042\n",
      "Epoch 8/100\n",
      "101/101 [==============================] - 0s 88us/step - loss: 0.9707\n",
      "Epoch 9/100\n",
      "101/101 [==============================] - 0s 97us/step - loss: 0.8793\n",
      "Epoch 10/100\n",
      "101/101 [==============================] - 0s 107us/step - loss: 0.7894\n",
      "Epoch 11/100\n",
      "101/101 [==============================] - 0s 114us/step - loss: 0.7205\n",
      "Epoch 12/100\n",
      "101/101 [==============================] - 0s 95us/step - loss: 0.6578\n",
      "Epoch 13/100\n",
      "101/101 [==============================] - 0s 107us/step - loss: 0.6175\n",
      "Epoch 14/100\n",
      "101/101 [==============================] - 0s 101us/step - loss: 0.5620\n",
      "Epoch 15/100\n",
      "101/101 [==============================] - 0s 90us/step - loss: 0.5217\n",
      "Epoch 16/100\n",
      "101/101 [==============================] - 0s 84us/step - loss: 0.4919\n",
      "Epoch 17/100\n",
      "101/101 [==============================] - 0s 99us/step - loss: 0.4583\n",
      "Epoch 18/100\n",
      "101/101 [==============================] - 0s 96us/step - loss: 0.4309\n",
      "Epoch 19/100\n",
      "101/101 [==============================] - 0s 97us/step - loss: 0.4107\n",
      "Epoch 20/100\n",
      "101/101 [==============================] - 0s 101us/step - loss: 0.3982\n",
      "Epoch 21/100\n",
      "101/101 [==============================] - 0s 94us/step - loss: 0.3811\n",
      "Epoch 22/100\n",
      "101/101 [==============================] - 0s 100us/step - loss: 0.3627\n",
      "Epoch 23/100\n",
      "101/101 [==============================] - 0s 108us/step - loss: 0.3504\n",
      "Epoch 24/100\n",
      "101/101 [==============================] - 0s 105us/step - loss: 0.3391\n",
      "Epoch 25/100\n",
      "101/101 [==============================] - 0s 124us/step - loss: 0.3192\n",
      "Epoch 26/100\n",
      "101/101 [==============================] - 0s 138us/step - loss: 0.3044\n",
      "Epoch 27/100\n",
      "101/101 [==============================] - 0s 117us/step - loss: 0.2939\n",
      "Epoch 28/100\n",
      "101/101 [==============================] - 0s 113us/step - loss: 0.2855\n",
      "Epoch 29/100\n",
      "101/101 [==============================] - 0s 101us/step - loss: 0.2745\n",
      "Epoch 30/100\n",
      "101/101 [==============================] - 0s 103us/step - loss: 0.2630\n",
      "Epoch 31/100\n",
      "101/101 [==============================] - 0s 86us/step - loss: 0.2523\n",
      "Epoch 32/100\n",
      "101/101 [==============================] - 0s 109us/step - loss: 0.2431\n",
      "Epoch 33/100\n",
      "101/101 [==============================] - 0s 90us/step - loss: 0.2360\n",
      "Epoch 34/100\n",
      "101/101 [==============================] - 0s 100us/step - loss: 0.2289\n",
      "Epoch 35/100\n",
      "101/101 [==============================] - 0s 93us/step - loss: 0.2219\n",
      "Epoch 36/100\n",
      "101/101 [==============================] - 0s 94us/step - loss: 0.2156\n",
      "Epoch 37/100\n",
      "101/101 [==============================] - 0s 104us/step - loss: 0.2182\n",
      "Epoch 38/100\n",
      "101/101 [==============================] - 0s 98us/step - loss: 0.2163\n",
      "Epoch 39/100\n",
      "101/101 [==============================] - 0s 114us/step - loss: 0.2078\n",
      "Epoch 40/100\n",
      "101/101 [==============================] - 0s 96us/step - loss: 0.1985\n",
      "Epoch 41/100\n",
      "101/101 [==============================] - 0s 102us/step - loss: 0.1928\n",
      "Epoch 42/100\n",
      "101/101 [==============================] - 0s 112us/step - loss: 0.1917\n",
      "Epoch 43/100\n",
      "101/101 [==============================] - 0s 110us/step - loss: 0.1860\n",
      "Epoch 44/100\n",
      "101/101 [==============================] - 0s 113us/step - loss: 0.1847\n",
      "Epoch 45/100\n",
      "101/101 [==============================] - 0s 97us/step - loss: 0.1818\n",
      "Epoch 46/100\n",
      "101/101 [==============================] - 0s 96us/step - loss: 0.1790\n",
      "Epoch 47/100\n",
      "101/101 [==============================] - ETA: 0s - loss: 0.167 - 0s 92us/step - loss: 0.1741\n",
      "Epoch 48/100\n",
      "101/101 [==============================] - 0s 100us/step - loss: 0.1739\n",
      "Epoch 49/100\n",
      "101/101 [==============================] - 0s 103us/step - loss: 0.1702\n",
      "Epoch 50/100\n",
      "101/101 [==============================] - 0s 102us/step - loss: 0.1665\n",
      "Epoch 51/100\n",
      "101/101 [==============================] - 0s 83us/step - loss: 0.1648\n",
      "Epoch 52/100\n",
      "101/101 [==============================] - 0s 100us/step - loss: 0.1632\n",
      "Epoch 53/100\n",
      "101/101 [==============================] - 0s 92us/step - loss: 0.1624\n",
      "Epoch 54/100\n",
      "101/101 [==============================] - 0s 95us/step - loss: 0.1580\n",
      "Epoch 55/100\n",
      "101/101 [==============================] - 0s 103us/step - loss: 0.1560\n",
      "Epoch 56/100\n",
      "101/101 [==============================] - 0s 92us/step - loss: 0.1526\n",
      "Epoch 57/100\n",
      "101/101 [==============================] - 0s 85us/step - loss: 0.1514\n",
      "Epoch 58/100\n",
      "101/101 [==============================] - 0s 103us/step - loss: 0.1495\n",
      "Epoch 59/100\n",
      "101/101 [==============================] - 0s 102us/step - loss: 0.1472\n",
      "Epoch 60/100\n",
      "101/101 [==============================] - 0s 92us/step - loss: 0.1490\n",
      "Epoch 61/100\n",
      "101/101 [==============================] - 0s 90us/step - loss: 0.1494\n",
      "Epoch 62/100\n",
      "101/101 [==============================] - 0s 76us/step - loss: 0.1448\n",
      "Epoch 63/100\n",
      "101/101 [==============================] - 0s 72us/step - loss: 0.1472\n",
      "Epoch 64/100\n",
      "101/101 [==============================] - 0s 71us/step - loss: 0.1435\n",
      "Epoch 65/100\n",
      "101/101 [==============================] - 0s 77us/step - loss: 0.1374\n",
      "Epoch 66/100\n",
      "101/101 [==============================] - 0s 91us/step - loss: 0.1386\n",
      "Epoch 67/100\n",
      "101/101 [==============================] - 0s 85us/step - loss: 0.1341\n",
      "Epoch 68/100\n",
      "101/101 [==============================] - 0s 85us/step - loss: 0.1318\n",
      "Epoch 69/100\n",
      "101/101 [==============================] - 0s 80us/step - loss: 0.1340\n",
      "Epoch 70/100\n",
      "101/101 [==============================] - 0s 89us/step - loss: 0.1351\n",
      "Epoch 71/100\n",
      "101/101 [==============================] - 0s 91us/step - loss: 0.1298\n",
      "Epoch 72/100\n",
      "101/101 [==============================] - 0s 74us/step - loss: 0.1351\n",
      "Epoch 73/100\n",
      "101/101 [==============================] - 0s 75us/step - loss: 0.1418\n",
      "Epoch 74/100\n",
      "101/101 [==============================] - 0s 79us/step - loss: 0.1373\n",
      "Epoch 75/100\n",
      "101/101 [==============================] - 0s 76us/step - loss: 0.1281\n",
      "Epoch 76/100\n",
      "101/101 [==============================] - 0s 75us/step - loss: 0.1240\n",
      "Epoch 77/100\n",
      "101/101 [==============================] - 0s 71us/step - loss: 0.1233\n",
      "Epoch 78/100\n",
      "101/101 [==============================] - 0s 87us/step - loss: 0.1244\n",
      "Epoch 79/100\n",
      "101/101 [==============================] - 0s 87us/step - loss: 0.1236\n",
      "Epoch 80/100\n",
      "101/101 [==============================] - 0s 91us/step - loss: 0.1215\n",
      "Epoch 81/100\n",
      "101/101 [==============================] - 0s 117us/step - loss: 0.1196\n",
      "Epoch 82/100\n",
      "101/101 [==============================] - 0s 87us/step - loss: 0.1189\n",
      "Epoch 83/100\n",
      "101/101 [==============================] - 0s 103us/step - loss: 0.1187\n",
      "Epoch 84/100\n",
      "101/101 [==============================] - 0s 98us/step - loss: 0.1179\n",
      "Epoch 85/100\n",
      "101/101 [==============================] - 0s 94us/step - loss: 0.1177\n",
      "Epoch 86/100\n",
      "101/101 [==============================] - 0s 96us/step - loss: 0.1189\n",
      "Epoch 87/100\n",
      "101/101 [==============================] - 0s 92us/step - loss: 0.1173\n",
      "Epoch 88/100\n",
      "101/101 [==============================] - 0s 107us/step - loss: 0.1168\n",
      "Epoch 89/100\n",
      "101/101 [==============================] - 0s 94us/step - loss: 0.1155\n",
      "Epoch 90/100\n",
      "101/101 [==============================] - 0s 92us/step - loss: 0.1121\n",
      "Epoch 91/100\n",
      "101/101 [==============================] - 0s 101us/step - loss: 0.1220\n",
      "Epoch 92/100\n",
      "101/101 [==============================] - 0s 96us/step - loss: 0.1340\n",
      "Epoch 93/100\n",
      "101/101 [==============================] - 0s 98us/step - loss: 0.1258\n",
      "Epoch 94/100\n",
      "101/101 [==============================] - 0s 94us/step - loss: 0.1141\n",
      "Epoch 95/100\n",
      "101/101 [==============================] - 0s 93us/step - loss: 0.1108\n",
      "Epoch 96/100\n",
      "101/101 [==============================] - 0s 102us/step - loss: 0.1167\n",
      "Epoch 97/100\n"
     ]
    },
    {
     "name": "stdout",
     "output_type": "stream",
     "text": [
      "101/101 [==============================] - 0s 92us/step - loss: 0.1208\n",
      "Epoch 98/100\n",
      "101/101 [==============================] - 0s 98us/step - loss: 0.1183\n",
      "Epoch 99/100\n",
      "101/101 [==============================] - 0s 96us/step - loss: 0.1112\n",
      "Epoch 100/100\n",
      "101/101 [==============================] - 0s 131us/step - loss: 0.1091\n"
     ]
    },
    {
     "data": {
      "text/plain": [
       "<keras.callbacks.callbacks.History at 0x1a4b6590d0>"
      ]
     },
     "execution_count": 41,
     "metadata": {},
     "output_type": "execute_result"
    }
   ],
   "source": [
    "model2.fit(X2,y2,epochs=100)"
   ]
  },
  {
   "cell_type": "code",
   "execution_count": 42,
   "metadata": {},
   "outputs": [
    {
     "data": {
      "image/png": "[encoded data removed]",
      "text/plain": [
       "<Figure size 432x288 with 1 Axes>"
      ]
     },
     "metadata": {
      "needs_background": "light"
     },
     "output_type": "display_data"
    }
   ],
   "source": [
    "y2_predict=model2.predict(X2)\n",
    "plt.scatter(X2,y2)\n",
    "plt.scatter(X,y)\n",
    "plt.plot(X,y2_predict,'r')\n",
    "plt.show()"
   ]
  },
  {
   "cell_type": "code",
   "execution_count": null,
   "metadata": {},
   "outputs": [],
   "source": []
  },
  {
   "cell_type": "code",
   "execution_count": null,
   "metadata": {},
   "outputs": [],
   "source": []
  },
  {
   "cell_type": "code",
   "execution_count": null,
   "metadata": {},
   "outputs": [],
   "source": []
  },
  {
   "cell_type": "code",
   "execution_count": null,
   "metadata": {},
   "outputs": [],
   "source": []
  },
  {
   "cell_type": "code",
   "execution_count": null,
   "metadata": {},
   "outputs": [],
   "source": []
  },
  {
   "cell_type": "code",
   "execution_count": null,
   "metadata": {},
   "outputs": [],
   "source": []
  },
  {
   "cell_type": "code",
   "execution_count": null,
   "metadata": {},
   "outputs": [],
   "source": []
  },
  {
   "cell_type": "code",
   "execution_count": null,
   "metadata": {},
   "outputs": [],
   "source": []
  },
  {
   "cell_type": "code",
   "execution_count": null,
   "metadata": {},
   "outputs": [],
   "source": []
  },
  {
   "cell_type": "code",
   "execution_count": null,
   "metadata": {},
   "outputs": [],
   "source": []
  },
  {
   "cell_type": "code",
   "execution_count": null,
   "metadata": {},
   "outputs": [],
   "source": []
  },
  {
   "cell_type": "code",
   "execution_count": null,
   "metadata": {},
   "outputs": [],
   "source": []
  },
  {
   "cell_type": "code",
   "execution_count": null,
   "metadata": {},
   "outputs": [],
   "source": []
  },
  {
   "cell_type": "code",
   "execution_count": null,
   "metadata": {},
   "outputs": [],
   "source": []
  },
  {
   "cell_type": "code",
   "execution_count": null,
   "metadata": {},
   "outputs": [],
   "source": []
  }
 ],
 "metadata": {
  "kernelspec": {
   "display_name": "Python 3",
   "language": "python",
   "name": "python3"
  },
  "language_info": {
   "codemirror_mode": {
    "name": "ipython",
    "version": 3
   },
   "file_extension": ".py",
   "mimetype": "text/x-python",
   "name": "python",
   "nbconvert_exporter": "python",
   "pygments_lexer": "ipython3",
   "version": "3.7.6"
  }
 },
 "nbformat": 4,
 "nbformat_minor": 4
}
